{
 "cells": [
  {
   "cell_type": "markdown",
   "metadata": {},
   "source": [
    "#### connect to bigquery"
   ]
  },
  {
   "cell_type": "code",
   "execution_count": 1,
   "metadata": {},
   "outputs": [],
   "source": [
    "from google.cloud import bigquery\n",
    "\n",
    "client = bigquery.Client(project=\"sales-pulse-etl-dashboard\")\n",
    "project_id = 'sales-pulse-etl-dashboard'\n",
    "dataset_id = 'sales_data'\n",
    "table_id = 'advertising_metrics'\n",
    "table_ref = f\"{project_id}.{dataset_id}.{table_id}\""
   ]
  },
  {
   "cell_type": "code",
   "execution_count": 2,
   "metadata": {},
   "outputs": [
    {
     "name": "stdout",
     "output_type": "stream",
     "text": [
      "Table reference: sales-pulse-etl-dashboard.sales_data.advertising_metrics\n"
     ]
    }
   ],
   "source": [
    "print(f\"Table reference: {table_ref}\")"
   ]
  },
  {
   "cell_type": "code",
   "execution_count": 5,
   "metadata": {},
   "outputs": [
    {
     "name": "stdout",
     "output_type": "stream",
     "text": [
      "The bigquery_magics extension is already loaded. To reload it, use:\n",
      "  %reload_ext bigquery_magics\n"
     ]
    }
   ],
   "source": [
    "%load_ext bigquery_magics"
   ]
  },
  {
   "cell_type": "markdown",
   "metadata": {},
   "source": [
    "##### sql queries"
   ]
  },
  {
   "cell_type": "code",
   "execution_count": 8,
   "metadata": {},
   "outputs": [
    {
     "data": {
      "application/vnd.jupyter.widget-view+json": {
       "model_id": "7163e13598ba4ac68257067a65cb9b8d",
       "version_major": 2,
       "version_minor": 0
      },
      "text/plain": [
       "Query is running:   0%|          |"
      ]
     },
     "metadata": {},
     "output_type": "display_data"
    },
    {
     "data": {
      "application/vnd.jupyter.widget-view+json": {
       "model_id": "8ec7879335f14fb9aec3ce37ee7a7c3f",
       "version_major": 2,
       "version_minor": 0
      },
      "text/plain": [
       "Downloading:   0%|          |"
      ]
     },
     "metadata": {},
     "output_type": "display_data"
    }
   ],
   "source": [
    "%%bigquery result --project {project_id}\n",
    "SELECT *\n",
    "FROM `sales-pulse-etl-dashboard.sales_data.advertising_metrics`\n",
    "LIMIT 10;"
   ]
  },
  {
   "cell_type": "code",
   "execution_count": 10,
   "metadata": {},
   "outputs": [
    {
     "data": {
      "text/html": [
       "<div>\n",
       "<style scoped>\n",
       "    .dataframe tbody tr th:only-of-type {\n",
       "        vertical-align: middle;\n",
       "    }\n",
       "\n",
       "    .dataframe tbody tr th {\n",
       "        vertical-align: top;\n",
       "    }\n",
       "\n",
       "    .dataframe thead th {\n",
       "        text-align: right;\n",
       "    }\n",
       "</style>\n",
       "<table border=\"1\" class=\"dataframe\">\n",
       "  <thead>\n",
       "    <tr style=\"text-align: right;\">\n",
       "      <th></th>\n",
       "      <th>TV</th>\n",
       "      <th>Radio</th>\n",
       "      <th>Newspaper</th>\n",
       "      <th>Sales</th>\n",
       "      <th>Total_Spend</th>\n",
       "      <th>TV_Percentage</th>\n",
       "      <th>Radio_Percentage</th>\n",
       "      <th>Newspaper_Percentage</th>\n",
       "      <th>TV_Radio_Interaction</th>\n",
       "      <th>TV_Newspaper_Interaction</th>\n",
       "      <th>Log_Sales</th>\n",
       "      <th>Log_TV</th>\n",
       "      <th>ROAS</th>\n",
       "    </tr>\n",
       "  </thead>\n",
       "  <tbody>\n",
       "    <tr>\n",
       "      <th>0</th>\n",
       "      <td>0.7</td>\n",
       "      <td>39.6</td>\n",
       "      <td>8.7</td>\n",
       "      <td>1.6</td>\n",
       "      <td>49.0</td>\n",
       "      <td>0.014286</td>\n",
       "      <td>0.808163</td>\n",
       "      <td>0.177551</td>\n",
       "      <td>27.72</td>\n",
       "      <td>6.09</td>\n",
       "      <td>0.955511</td>\n",
       "      <td>0.530628</td>\n",
       "      <td>0.032653</td>\n",
       "    </tr>\n",
       "    <tr>\n",
       "      <th>1</th>\n",
       "      <td>4.1</td>\n",
       "      <td>11.6</td>\n",
       "      <td>5.7</td>\n",
       "      <td>3.2</td>\n",
       "      <td>21.4</td>\n",
       "      <td>0.191589</td>\n",
       "      <td>0.542056</td>\n",
       "      <td>0.266355</td>\n",
       "      <td>47.56</td>\n",
       "      <td>23.37</td>\n",
       "      <td>1.435085</td>\n",
       "      <td>1.629241</td>\n",
       "      <td>0.149533</td>\n",
       "    </tr>\n",
       "    <tr>\n",
       "      <th>2</th>\n",
       "      <td>8.6</td>\n",
       "      <td>2.1</td>\n",
       "      <td>1.0</td>\n",
       "      <td>4.8</td>\n",
       "      <td>11.7</td>\n",
       "      <td>0.735043</td>\n",
       "      <td>0.179487</td>\n",
       "      <td>0.085470</td>\n",
       "      <td>18.06</td>\n",
       "      <td>8.60</td>\n",
       "      <td>1.757858</td>\n",
       "      <td>2.261763</td>\n",
       "      <td>0.410256</td>\n",
       "    </tr>\n",
       "    <tr>\n",
       "      <th>3</th>\n",
       "      <td>5.4</td>\n",
       "      <td>29.9</td>\n",
       "      <td>9.4</td>\n",
       "      <td>5.3</td>\n",
       "      <td>44.7</td>\n",
       "      <td>0.120805</td>\n",
       "      <td>0.668904</td>\n",
       "      <td>0.210291</td>\n",
       "      <td>161.46</td>\n",
       "      <td>50.76</td>\n",
       "      <td>1.840550</td>\n",
       "      <td>1.856298</td>\n",
       "      <td>0.118568</td>\n",
       "    </tr>\n",
       "    <tr>\n",
       "      <th>4</th>\n",
       "      <td>13.1</td>\n",
       "      <td>0.4</td>\n",
       "      <td>25.6</td>\n",
       "      <td>5.3</td>\n",
       "      <td>39.1</td>\n",
       "      <td>0.335038</td>\n",
       "      <td>0.010230</td>\n",
       "      <td>0.654731</td>\n",
       "      <td>5.24</td>\n",
       "      <td>335.36</td>\n",
       "      <td>1.840550</td>\n",
       "      <td>2.646175</td>\n",
       "      <td>0.135550</td>\n",
       "    </tr>\n",
       "    <tr>\n",
       "      <th>5</th>\n",
       "      <td>7.3</td>\n",
       "      <td>28.1</td>\n",
       "      <td>41.4</td>\n",
       "      <td>5.5</td>\n",
       "      <td>76.8</td>\n",
       "      <td>0.095052</td>\n",
       "      <td>0.365885</td>\n",
       "      <td>0.539062</td>\n",
       "      <td>205.13</td>\n",
       "      <td>302.22</td>\n",
       "      <td>1.871802</td>\n",
       "      <td>2.116256</td>\n",
       "      <td>0.071615</td>\n",
       "    </tr>\n",
       "    <tr>\n",
       "      <th>6</th>\n",
       "      <td>13.2</td>\n",
       "      <td>15.9</td>\n",
       "      <td>49.6</td>\n",
       "      <td>5.6</td>\n",
       "      <td>78.7</td>\n",
       "      <td>0.167726</td>\n",
       "      <td>0.202033</td>\n",
       "      <td>0.630241</td>\n",
       "      <td>209.88</td>\n",
       "      <td>654.72</td>\n",
       "      <td>1.887070</td>\n",
       "      <td>2.653242</td>\n",
       "      <td>0.071156</td>\n",
       "    </tr>\n",
       "    <tr>\n",
       "      <th>7</th>\n",
       "      <td>8.4</td>\n",
       "      <td>27.2</td>\n",
       "      <td>2.1</td>\n",
       "      <td>5.7</td>\n",
       "      <td>37.7</td>\n",
       "      <td>0.222812</td>\n",
       "      <td>0.721485</td>\n",
       "      <td>0.055703</td>\n",
       "      <td>228.48</td>\n",
       "      <td>17.64</td>\n",
       "      <td>1.902108</td>\n",
       "      <td>2.240710</td>\n",
       "      <td>0.151194</td>\n",
       "    </tr>\n",
       "    <tr>\n",
       "      <th>8</th>\n",
       "      <td>17.2</td>\n",
       "      <td>4.1</td>\n",
       "      <td>31.6</td>\n",
       "      <td>5.9</td>\n",
       "      <td>52.9</td>\n",
       "      <td>0.325142</td>\n",
       "      <td>0.077505</td>\n",
       "      <td>0.597353</td>\n",
       "      <td>70.52</td>\n",
       "      <td>543.52</td>\n",
       "      <td>1.931521</td>\n",
       "      <td>2.901422</td>\n",
       "      <td>0.111531</td>\n",
       "    </tr>\n",
       "    <tr>\n",
       "      <th>9</th>\n",
       "      <td>19.4</td>\n",
       "      <td>16.0</td>\n",
       "      <td>22.3</td>\n",
       "      <td>6.6</td>\n",
       "      <td>57.7</td>\n",
       "      <td>0.336222</td>\n",
       "      <td>0.277296</td>\n",
       "      <td>0.386482</td>\n",
       "      <td>310.40</td>\n",
       "      <td>432.62</td>\n",
       "      <td>2.028148</td>\n",
       "      <td>3.015535</td>\n",
       "      <td>0.114385</td>\n",
       "    </tr>\n",
       "  </tbody>\n",
       "</table>\n",
       "</div>"
      ],
      "text/plain": [
       "     TV  Radio  Newspaper  Sales  Total_Spend  TV_Percentage  \\\n",
       "0   0.7   39.6        8.7    1.6         49.0       0.014286   \n",
       "1   4.1   11.6        5.7    3.2         21.4       0.191589   \n",
       "2   8.6    2.1        1.0    4.8         11.7       0.735043   \n",
       "3   5.4   29.9        9.4    5.3         44.7       0.120805   \n",
       "4  13.1    0.4       25.6    5.3         39.1       0.335038   \n",
       "5   7.3   28.1       41.4    5.5         76.8       0.095052   \n",
       "6  13.2   15.9       49.6    5.6         78.7       0.167726   \n",
       "7   8.4   27.2        2.1    5.7         37.7       0.222812   \n",
       "8  17.2    4.1       31.6    5.9         52.9       0.325142   \n",
       "9  19.4   16.0       22.3    6.6         57.7       0.336222   \n",
       "\n",
       "   Radio_Percentage  Newspaper_Percentage  TV_Radio_Interaction  \\\n",
       "0          0.808163              0.177551                 27.72   \n",
       "1          0.542056              0.266355                 47.56   \n",
       "2          0.179487              0.085470                 18.06   \n",
       "3          0.668904              0.210291                161.46   \n",
       "4          0.010230              0.654731                  5.24   \n",
       "5          0.365885              0.539062                205.13   \n",
       "6          0.202033              0.630241                209.88   \n",
       "7          0.721485              0.055703                228.48   \n",
       "8          0.077505              0.597353                 70.52   \n",
       "9          0.277296              0.386482                310.40   \n",
       "\n",
       "   TV_Newspaper_Interaction  Log_Sales    Log_TV      ROAS  \n",
       "0                      6.09   0.955511  0.530628  0.032653  \n",
       "1                     23.37   1.435085  1.629241  0.149533  \n",
       "2                      8.60   1.757858  2.261763  0.410256  \n",
       "3                     50.76   1.840550  1.856298  0.118568  \n",
       "4                    335.36   1.840550  2.646175  0.135550  \n",
       "5                    302.22   1.871802  2.116256  0.071615  \n",
       "6                    654.72   1.887070  2.653242  0.071156  \n",
       "7                     17.64   1.902108  2.240710  0.151194  \n",
       "8                    543.52   1.931521  2.901422  0.111531  \n",
       "9                    432.62   2.028148  3.015535  0.114385  "
      ]
     },
     "metadata": {},
     "output_type": "display_data"
    }
   ],
   "source": [
    "display(result)"
   ]
  },
  {
   "cell_type": "markdown",
   "metadata": {},
   "source": [
    "average sales"
   ]
  },
  {
   "cell_type": "code",
   "execution_count": 15,
   "metadata": {},
   "outputs": [
    {
     "data": {
      "application/vnd.jupyter.widget-view+json": {
       "model_id": "4c7d0c11e4f242f2b05e8f8931594696",
       "version_major": 2,
       "version_minor": 0
      },
      "text/plain": [
       "Query is running:   0%|          |"
      ]
     },
     "metadata": {},
     "output_type": "display_data"
    },
    {
     "data": {
      "application/vnd.jupyter.widget-view+json": {
       "model_id": "cd4225e738e34332b8a4a6a900a00169",
       "version_major": 2,
       "version_minor": 0
      },
      "text/plain": [
       "Downloading:   0%|          |"
      ]
     },
     "metadata": {},
     "output_type": "display_data"
    }
   ],
   "source": [
    "%%bigquery result --project {project_id}\n",
    "SELECT AVG(Sales) AS avg_sales, AVG(Total_Spend) AS avg_total_spend\n",
    "FROM `sales-pulse-etl-dashboard.sales_data.advertising_metrics`;"
   ]
  },
  {
   "cell_type": "code",
   "execution_count": 16,
   "metadata": {},
   "outputs": [
    {
     "data": {
      "text/html": [
       "<div>\n",
       "<style scoped>\n",
       "    .dataframe tbody tr th:only-of-type {\n",
       "        vertical-align: middle;\n",
       "    }\n",
       "\n",
       "    .dataframe tbody tr th {\n",
       "        vertical-align: top;\n",
       "    }\n",
       "\n",
       "    .dataframe thead th {\n",
       "        text-align: right;\n",
       "    }\n",
       "</style>\n",
       "<table border=\"1\" class=\"dataframe\">\n",
       "  <thead>\n",
       "    <tr style=\"text-align: right;\">\n",
       "      <th></th>\n",
       "      <th>avg_sales</th>\n",
       "      <th>avg_total_spend</th>\n",
       "    </tr>\n",
       "  </thead>\n",
       "  <tbody>\n",
       "    <tr>\n",
       "      <th>0</th>\n",
       "      <td>14.0225</td>\n",
       "      <td>200.8605</td>\n",
       "    </tr>\n",
       "  </tbody>\n",
       "</table>\n",
       "</div>"
      ],
      "text/plain": [
       "   avg_sales  avg_total_spend\n",
       "0    14.0225         200.8605"
      ]
     },
     "metadata": {},
     "output_type": "display_data"
    }
   ],
   "source": [
    "display(result)"
   ]
  },
  {
   "cell_type": "markdown",
   "metadata": {},
   "source": [
    "ROAS levels"
   ]
  },
  {
   "cell_type": "code",
   "execution_count": null,
   "metadata": {},
   "outputs": [
    {
     "data": {
      "application/vnd.jupyter.widget-view+json": {
       "model_id": "11672417df594a6cb25019e62baa13df",
       "version_major": 2,
       "version_minor": 0
      },
      "text/plain": [
       "Query is running:   0%|          |"
      ]
     },
     "metadata": {},
     "output_type": "display_data"
    },
    {
     "data": {
      "application/vnd.jupyter.widget-view+json": {
       "model_id": "732dcee7cd9f4f19b10289108f9503ab",
       "version_major": 2,
       "version_minor": 0
      },
      "text/plain": [
       "Downloading:   0%|          |"
      ]
     },
     "metadata": {},
     "output_type": "display_data"
    }
   ],
   "source": [
    "\n"
   ]
  },
  {
   "cell_type": "code",
   "execution_count": 18,
   "metadata": {},
   "outputs": [
    {
     "data": {
      "text/html": [
       "<div>\n",
       "<style scoped>\n",
       "    .dataframe tbody tr th:only-of-type {\n",
       "        vertical-align: middle;\n",
       "    }\n",
       "\n",
       "    .dataframe tbody tr th {\n",
       "        vertical-align: top;\n",
       "    }\n",
       "\n",
       "    .dataframe thead th {\n",
       "        text-align: right;\n",
       "    }\n",
       "</style>\n",
       "<table border=\"1\" class=\"dataframe\">\n",
       "  <thead>\n",
       "    <tr style=\"text-align: right;\">\n",
       "      <th></th>\n",
       "      <th>Sales</th>\n",
       "      <th>Total_Spend</th>\n",
       "      <th>ROAS</th>\n",
       "      <th>efficiency_category</th>\n",
       "    </tr>\n",
       "  </thead>\n",
       "  <tbody>\n",
       "    <tr>\n",
       "      <th>0</th>\n",
       "      <td>1.6</td>\n",
       "      <td>49.0</td>\n",
       "      <td>0.032653</td>\n",
       "      <td>Low Efficiency</td>\n",
       "    </tr>\n",
       "    <tr>\n",
       "      <th>1</th>\n",
       "      <td>3.2</td>\n",
       "      <td>21.4</td>\n",
       "      <td>0.149533</td>\n",
       "      <td>Low Efficiency</td>\n",
       "    </tr>\n",
       "    <tr>\n",
       "      <th>2</th>\n",
       "      <td>4.8</td>\n",
       "      <td>11.7</td>\n",
       "      <td>0.410256</td>\n",
       "      <td>Low Efficiency</td>\n",
       "    </tr>\n",
       "    <tr>\n",
       "      <th>3</th>\n",
       "      <td>5.3</td>\n",
       "      <td>44.7</td>\n",
       "      <td>0.118568</td>\n",
       "      <td>Low Efficiency</td>\n",
       "    </tr>\n",
       "    <tr>\n",
       "      <th>4</th>\n",
       "      <td>5.3</td>\n",
       "      <td>39.1</td>\n",
       "      <td>0.135550</td>\n",
       "      <td>Low Efficiency</td>\n",
       "    </tr>\n",
       "    <tr>\n",
       "      <th>5</th>\n",
       "      <td>5.5</td>\n",
       "      <td>76.8</td>\n",
       "      <td>0.071615</td>\n",
       "      <td>Low Efficiency</td>\n",
       "    </tr>\n",
       "    <tr>\n",
       "      <th>6</th>\n",
       "      <td>5.6</td>\n",
       "      <td>78.7</td>\n",
       "      <td>0.071156</td>\n",
       "      <td>Low Efficiency</td>\n",
       "    </tr>\n",
       "    <tr>\n",
       "      <th>7</th>\n",
       "      <td>5.7</td>\n",
       "      <td>37.7</td>\n",
       "      <td>0.151194</td>\n",
       "      <td>Low Efficiency</td>\n",
       "    </tr>\n",
       "    <tr>\n",
       "      <th>8</th>\n",
       "      <td>5.9</td>\n",
       "      <td>52.9</td>\n",
       "      <td>0.111531</td>\n",
       "      <td>Low Efficiency</td>\n",
       "    </tr>\n",
       "    <tr>\n",
       "      <th>9</th>\n",
       "      <td>6.6</td>\n",
       "      <td>57.7</td>\n",
       "      <td>0.114385</td>\n",
       "      <td>Low Efficiency</td>\n",
       "    </tr>\n",
       "    <tr>\n",
       "      <th>10</th>\n",
       "      <td>6.6</td>\n",
       "      <td>97.3</td>\n",
       "      <td>0.067831</td>\n",
       "      <td>Low Efficiency</td>\n",
       "    </tr>\n",
       "    <tr>\n",
       "      <th>11</th>\n",
       "      <td>6.7</td>\n",
       "      <td>54.2</td>\n",
       "      <td>0.123616</td>\n",
       "      <td>Low Efficiency</td>\n",
       "    </tr>\n",
       "    <tr>\n",
       "      <th>12</th>\n",
       "      <td>6.9</td>\n",
       "      <td>49.8</td>\n",
       "      <td>0.138554</td>\n",
       "      <td>Low Efficiency</td>\n",
       "    </tr>\n",
       "    <tr>\n",
       "      <th>13</th>\n",
       "      <td>7.0</td>\n",
       "      <td>90.9</td>\n",
       "      <td>0.077008</td>\n",
       "      <td>Low Efficiency</td>\n",
       "    </tr>\n",
       "    <tr>\n",
       "      <th>14</th>\n",
       "      <td>7.2</td>\n",
       "      <td>132.6</td>\n",
       "      <td>0.054299</td>\n",
       "      <td>Low Efficiency</td>\n",
       "    </tr>\n",
       "    <tr>\n",
       "      <th>15</th>\n",
       "      <td>7.2</td>\n",
       "      <td>65.7</td>\n",
       "      <td>0.109589</td>\n",
       "      <td>Low Efficiency</td>\n",
       "    </tr>\n",
       "    <tr>\n",
       "      <th>16</th>\n",
       "      <td>7.3</td>\n",
       "      <td>63.1</td>\n",
       "      <td>0.115689</td>\n",
       "      <td>Low Efficiency</td>\n",
       "    </tr>\n",
       "    <tr>\n",
       "      <th>17</th>\n",
       "      <td>7.3</td>\n",
       "      <td>93.8</td>\n",
       "      <td>0.077825</td>\n",
       "      <td>Low Efficiency</td>\n",
       "    </tr>\n",
       "    <tr>\n",
       "      <th>18</th>\n",
       "      <td>7.6</td>\n",
       "      <td>56.7</td>\n",
       "      <td>0.134039</td>\n",
       "      <td>Low Efficiency</td>\n",
       "    </tr>\n",
       "    <tr>\n",
       "      <th>19</th>\n",
       "      <td>7.6</td>\n",
       "      <td>55.7</td>\n",
       "      <td>0.136445</td>\n",
       "      <td>Low Efficiency</td>\n",
       "    </tr>\n",
       "  </tbody>\n",
       "</table>\n",
       "</div>"
      ],
      "text/plain": [
       "    Sales  Total_Spend      ROAS efficiency_category\n",
       "0     1.6         49.0  0.032653      Low Efficiency\n",
       "1     3.2         21.4  0.149533      Low Efficiency\n",
       "2     4.8         11.7  0.410256      Low Efficiency\n",
       "3     5.3         44.7  0.118568      Low Efficiency\n",
       "4     5.3         39.1  0.135550      Low Efficiency\n",
       "5     5.5         76.8  0.071615      Low Efficiency\n",
       "6     5.6         78.7  0.071156      Low Efficiency\n",
       "7     5.7         37.7  0.151194      Low Efficiency\n",
       "8     5.9         52.9  0.111531      Low Efficiency\n",
       "9     6.6         57.7  0.114385      Low Efficiency\n",
       "10    6.6         97.3  0.067831      Low Efficiency\n",
       "11    6.7         54.2  0.123616      Low Efficiency\n",
       "12    6.9         49.8  0.138554      Low Efficiency\n",
       "13    7.0         90.9  0.077008      Low Efficiency\n",
       "14    7.2        132.6  0.054299      Low Efficiency\n",
       "15    7.2         65.7  0.109589      Low Efficiency\n",
       "16    7.3         63.1  0.115689      Low Efficiency\n",
       "17    7.3         93.8  0.077825      Low Efficiency\n",
       "18    7.6         56.7  0.134039      Low Efficiency\n",
       "19    7.6         55.7  0.136445      Low Efficiency"
      ]
     },
     "metadata": {},
     "output_type": "display_data"
    }
   ],
   "source": [
    "display(result)"
   ]
  },
  {
   "cell_type": "code",
   "execution_count": null,
   "metadata": {},
   "outputs": [],
   "source": []
  }
 ],
 "metadata": {
  "kernelspec": {
   "display_name": "venv",
   "language": "python",
   "name": "python3"
  },
  "language_info": {
   "codemirror_mode": {
    "name": "ipython",
    "version": 3
   },
   "file_extension": ".py",
   "mimetype": "text/x-python",
   "name": "python",
   "nbconvert_exporter": "python",
   "pygments_lexer": "ipython3",
   "version": "3.13.2"
  }
 },
 "nbformat": 4,
 "nbformat_minor": 2
}
